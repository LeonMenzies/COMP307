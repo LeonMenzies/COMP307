{
 "cells": [
  {
   "cell_type": "code",
   "execution_count": 1,
   "metadata": {},
   "outputs": [],
   "source": [
    "import pandas as pd\n",
    "data = pd.read_csv('/Users/leonmenzies/Documents/Uni/Year 3 tri 1/COMP307/Assignment_3/part2/breast-cancer-training.csv')\n",
    "\n",
    "# Remove count row\n",
    "d = data.drop(data.columns[[0]], axis=1)"
   ]
  },
  {
   "cell_type": "code",
   "execution_count": 2,
   "metadata": {},
   "outputs": [],
   "source": [
    "def naive_bayes(df):\n",
    "\n",
    "    count = {}\n",
    "\n",
    "    #Initialise the count numbers to 1\n",
    "    #For each class label y\n",
    "    for y in d['class'].unique():\n",
    "\n",
    "        count[y] = 1\n",
    "\n",
    "        #For each feature X\n",
    "        for X in df.drop(df.columns[[0]], axis=1).columns:  \n",
    "\n",
    "            #For each possible value x of feature X\n",
    "            for x in df[X].unique():\n",
    "\n",
    "                count[(X, x, y)] = 1\n",
    "\n",
    "\n",
    "    #Count the numbers of each class and feature value based on the training instances\n",
    "    for index, row in df.iterrows():\n",
    "        count[row['class']] += 1\n",
    "\n",
    "        for X in df.drop(df.columns[[0]], axis=1).columns:\n",
    "\n",
    "            count[(X, row[X], row['class'])] += 1\n",
    "        \n",
    "\n",
    "    #Calculate the total/denominators\n",
    "\n",
    "    class_total = 0\n",
    "    total = {}\n",
    "    for y in d['class'].unique():\n",
    "        class_total += count[y]\n",
    "\n",
    "        for X in df.drop(df.columns[[0]], axis=1).columns:\n",
    "            \n",
    "            total[(X, y)] = 0\n",
    "\n",
    "            for x in df[X].unique():\n",
    "                total[(X, y)] += count[(X, x, y)]\n",
    "\n",
    "    prob = {}\n",
    "    #Calculate probabilities from the counting numbers\n",
    "    for y in d['class'].unique():\n",
    "        prob[y] = count[y] / class_total\n",
    "\n",
    "        for X in df.drop(df.columns[[0]], axis=1).columns:\n",
    "            for x in df[X].unique():\n",
    "                prob[(X, x, y)] = count[X, x, y] / total[(X, y)]\n",
    "\n",
    "    return prob\n",
    "\n"
   ]
  },
  {
   "cell_type": "code",
   "execution_count": 3,
   "metadata": {},
   "outputs": [],
   "source": [
    "#Load test dat\n",
    "test_data = pd.read_csv('/Users/leonmenzies/Documents/Uni/Year 3 tri 1/COMP307/Assignment_3/part2/breast-cancer-test.csv')\n",
    "\n",
    "# Remove count row\n",
    "td = test_data.drop(test_data.columns[[0]], axis=1)\n"
   ]
  },
  {
   "cell_type": "code",
   "execution_count": 4,
   "metadata": {},
   "outputs": [
    {
     "name": "stdout",
     "output_type": "stream",
     "text": [
      "Accurracy: 0.8\n"
     ]
    }
   ],
   "source": [
    "#Score an instance\n",
    "def score(instance, y):\n",
    "\n",
    "    prob = naive_bayes(d)\n",
    "    score = prob[y]\n",
    "\n",
    "    for X, x in instance.items():\n",
    "     score *= prob[(X, x, y)]\n",
    "\n",
    "    return score\n",
    "\n",
    "\n",
    "#Iterate the test set and get final score\n",
    "total = 0\n",
    "for index, row in td.iterrows():\n",
    "\n",
    "    y = row['class']\n",
    "\n",
    "    # print(f\"no-recurrence-events: {score(row.drop(labels=['class']), 'no-recurrence-events')}\")\n",
    "    # print(f\"recurrence-events: {score(row.drop(labels=['class']), 'recurrence-events')}\")\n",
    "    # print(f\"predected class of the input vector: {y}\")\n",
    "\n",
    "    correct = None\n",
    "    if score(row.drop(labels=['class']), 'no-recurrence-events') > score(row.drop(labels=['class']), 'recurrence-events'):\n",
    "        correct = 'no-recurrence-events'\n",
    "    else:\n",
    "        correct = 'recurrence-events'\n",
    "    if correct == y:\n",
    "        total += 1\n",
    "\n",
    "\n",
    "print(f\"Accurracy: {total / len(td)}\")\n"
   ]
  }
 ],
 "metadata": {
  "interpreter": {
   "hash": "31fe66134ab692918368e94a77aeb0989d92ba44fc91bb8cac9127253431b58b"
  },
  "kernelspec": {
   "display_name": "Python 3.9.7 ('base')",
   "language": "python",
   "name": "python3"
  },
  "language_info": {
   "codemirror_mode": {
    "name": "ipython",
    "version": 3
   },
   "file_extension": ".py",
   "mimetype": "text/x-python",
   "name": "python",
   "nbconvert_exporter": "python",
   "pygments_lexer": "ipython3",
   "version": "3.9.7"
  },
  "orig_nbformat": 4
 },
 "nbformat": 4,
 "nbformat_minor": 2
}
