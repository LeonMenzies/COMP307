{
 "cells": [
  {
   "cell_type": "code",
   "execution_count": 9,
   "metadata": {},
   "outputs": [],
   "source": [
    "import pandas as pd\n",
    "import numpy as np\n",
    "from math import sqrt\n",
    "from collections import Counter\n"
   ]
  },
  {
   "cell_type": "code",
   "execution_count": 10,
   "metadata": {},
   "outputs": [],
   "source": [
    "#Save data to dataframes\n",
    "df_train = pd.read_csv(\"./part1/wine-training\", delimiter=r\"\\s+\");\n",
    "df_test = pd.read_csv(\"./part1/wine-test\", delimiter=r\"\\s+\");"
   ]
  },
  {
   "cell_type": "code",
   "execution_count": 11,
   "metadata": {},
   "outputs": [],
   "source": [
    "#Split the class from the training data\n",
    "X = df_train.drop('Class', axis=1)\n",
    "y = df_train.Class\n",
    "\n",
    "#Normalise\n",
    "X=(X-X.min())/(X.max()-X.min())"
   ]
  },
  {
   "cell_type": "code",
   "execution_count": 12,
   "metadata": {},
   "outputs": [],
   "source": [
    "#remove the class from the test data\n",
    "X_test = df_test.drop('Class', axis=1)\n",
    "y_test = df_test.Class\n",
    "\n",
    "#Normalise\n",
    "X_test=(X_test-X_test.min())/(X_test.max()-X_test.min())"
   ]
  },
  {
   "cell_type": "code",
   "execution_count": 13,
   "metadata": {},
   "outputs": [],
   "source": [
    "def euclidean_dist(x1, x2):\n",
    "    return np.sqrt(np.sum((x1-x2)**2))\n"
   ]
  },
  {
   "cell_type": "markdown",
   "metadata": {},
   "source": [
    "def KNN(k):\n",
    "    results = []\n",
    "\n",
    "    for i in X_test.index:  \n",
    "        distances = [euclidean_dist(X_test.iloc[i], xs) for xs in X.index]\n",
    "\n",
    "        k_i = np.argsort(distances)[:k]\n",
    "        k_l = [y for i in k_i]\n",
    "        most_common = Counter(k_l).most_common(1)"
   ]
  },
  {
   "cell_type": "code",
   "execution_count": 23,
   "metadata": {},
   "outputs": [],
   "source": [
    "def KNN(k):\n",
    "    results = []\n",
    "\n",
    "    for j in X_test.index:\n",
    "        \n",
    "        distances = []  \n",
    "\n",
    "        for i in X.index:\n",
    "            distances.append(euclidean_dist(X_test.iloc[j], X.iloc[i]))\n",
    "\n",
    "        df_dists = pd.DataFrame(data=distances, index=X.index, columns=['dist'])\n",
    "        \n",
    "        df_nn = df_dists.sort_values(by=['dist'], axis=0)[:k]\n",
    "        \n",
    "\n",
    "        counter = Counter(y[df_nn.index])\n",
    "\n",
    "        # Append the most common neighbour\n",
    "        results.append(counter.most_common()[0][0]) \n",
    "        \n",
    "\n",
    "    accuracy = np.sum(np.equal(y_test, results)) / len(y_test)\n",
    "\n",
    "    print(f\"K: {k} Accuracy: {accuracy}\")"
   ]
  },
  {
   "cell_type": "code",
   "execution_count": 25,
   "metadata": {},
   "outputs": [
    {
     "name": "stdout",
     "output_type": "stream",
     "text": [
      "K: 1 Accuracy: 0.9438202247191011\n",
      "K: 3 Accuracy: 0.9213483146067416\n"
     ]
    }
   ],
   "source": [
    "KNN(1)\n",
    "KNN(3)"
   ]
  },
  {
   "cell_type": "code",
   "execution_count": null,
   "metadata": {},
   "outputs": [],
   "source": []
  }
 ],
 "metadata": {
  "interpreter": {
   "hash": "31f2aee4e71d21fbe5cf8b01ff0e069b9275f58929596ceb00d14d90e3e16cd6"
  },
  "kernelspec": {
   "display_name": "Python 3.8.9 64-bit",
   "language": "python",
   "name": "python3"
  },
  "language_info": {
   "codemirror_mode": {
    "name": "ipython",
    "version": 3
   },
   "file_extension": ".py",
   "mimetype": "text/x-python",
   "name": "python",
   "nbconvert_exporter": "python",
   "pygments_lexer": "ipython3",
   "version": "3.9.7"
  },
  "orig_nbformat": 4
 },
 "nbformat": 4,
 "nbformat_minor": 2
}
