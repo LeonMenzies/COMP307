{
 "cells": [
  {
   "cell_type": "code",
   "execution_count": 1,
   "metadata": {},
   "outputs": [],
   "source": [
    "import pandas as pd\n",
    "import numpy as np\n"
   ]
  },
  {
   "cell_type": "code",
   "execution_count": 2,
   "metadata": {},
   "outputs": [],
   "source": [
    "df = pd.read_csv(\"./part3/ionosphere.data\", delimiter=r\"\\s+\");\n",
    "\n",
    "learning_rate = 0.001\n",
    "\n",
    "#Split the class from the training data\n",
    "X = df.drop('class', axis=1)\n",
    "y = df[\"class\"].replace({\"g\": 1, \"b\": 0})\n",
    "\n",
    "np.random.seed(0)\n",
    "w = np.random.rand(len(X.columns))\n"
   ]
  },
  {
   "cell_type": "code",
   "execution_count": 3,
   "metadata": {},
   "outputs": [],
   "source": [
    "def predict(inputs):\n",
    "    if np.dot(inputs, w) > 0:\n",
    "        return 1\n",
    "    else:\n",
    "        return 0"
   ]
  },
  {
   "cell_type": "code",
   "execution_count": 4,
   "metadata": {},
   "outputs": [
    {
     "name": "stdout",
     "output_type": "stream",
     "text": [
      "Accuracy: 0.9002849002849003\n",
      "Epcohs: 380\n",
      "Final weights: [-0.0111865   0.71518937  0.02403966  0.01333261  0.03281234  0.02848403\n",
      " -0.0110824   0.02009977  0.01046255 -0.00583095 -0.02466602 -0.01385388\n",
      " -0.01449675  0.01574313  0.03093215 -0.00514358  0.01876912  0.00903484\n",
      " -0.00249258 -0.00595623 -0.01549691 -0.02553051  0.00902286  0.01773213\n",
      " -0.00518096  0.02508529 -0.04550619 -0.00727813  0.01474962  0.00816157\n",
      "  0.00614948 -0.00744793  0.02357931 -0.00988062]\n"
     ]
    }
   ],
   "source": [
    "epochs = 0\n",
    "while True:\n",
    "    predictions = []\n",
    "    for inputs, label in zip(X.to_numpy(), y):\n",
    "        prediction = predict(inputs)\n",
    "        predictions.append(prediction)\n",
    "\n",
    "        w = w + learning_rate * (label - prediction) * inputs\n",
    "    \n",
    "    accuracy = np.sum(np.equal(y, predictions)) / len(y)\n",
    "    epochs+=1\n",
    "\n",
    "    if(accuracy > 0.9 or epochs > 500):\n",
    "        print(f\"Accuracy: {accuracy}\")\n",
    "        break\n",
    "    \n",
    "print(f\"Epcohs: {epochs}\")    \n",
    "print(f\"Final weights: {w}\")"
   ]
  },
  {
   "cell_type": "code",
   "execution_count": null,
   "metadata": {},
   "outputs": [],
   "source": []
  }
 ],
 "metadata": {
  "interpreter": {
   "hash": "31fe66134ab692918368e94a77aeb0989d92ba44fc91bb8cac9127253431b58b"
  },
  "kernelspec": {
   "display_name": "Python 3.9.7 ('base')",
   "language": "python",
   "name": "python3"
  },
  "language_info": {
   "codemirror_mode": {
    "name": "ipython",
    "version": 3
   },
   "file_extension": ".py",
   "mimetype": "text/x-python",
   "name": "python",
   "nbconvert_exporter": "python",
   "pygments_lexer": "ipython3",
   "version": "3.9.7"
  },
  "orig_nbformat": 4
 },
 "nbformat": 4,
 "nbformat_minor": 2
}
