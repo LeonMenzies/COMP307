{
 "cells": [
  {
   "cell_type": "code",
   "execution_count": 6,
   "metadata": {},
   "outputs": [],
   "source": [
    "import pandas as pd\n",
    "import numpy as np\n"
   ]
  },
  {
   "cell_type": "code",
   "execution_count": 7,
   "metadata": {},
   "outputs": [],
   "source": [
    "df = pd.read_csv(\"./part3/ionosphere.data\", delimiter=r\"\\s+\");\n",
    "\n",
    "learning_rate = 0.001\n",
    "\n",
    "#Split the class from the training data\n",
    "X = df.drop('class', axis=1)\n",
    "y = df[\"class\"].replace({\"g\": 1, \"b\": 0})\n",
    "\n",
    "#Add the dummy row for bias\n",
    "X.insert(0, \"f0\", 1)\n",
    "\n",
    "np.random.seed(0)\n",
    "w = np.random.rand(len(X.columns))\n",
    "\n"
   ]
  },
  {
   "cell_type": "code",
   "execution_count": 8,
   "metadata": {},
   "outputs": [],
   "source": [
    "def predict(inputs):\n",
    "\n",
    "    if np.dot(inputs, w) > 0:\n",
    "        return 1\n",
    "    else:\n",
    "        return 0"
   ]
  },
  {
   "cell_type": "code",
   "execution_count": 9,
   "metadata": {},
   "outputs": [
    {
     "name": "stdout",
     "output_type": "stream",
     "text": [
      "Accuracy: 0.9002849002849003\n",
      "Epcohs: 98\n",
      "Final weights: [-0.6901865   0.36018937  0.60276338  0.09868306  0.2141567   0.20132785\n",
      "  0.08399346  0.12711101  0.43690986  0.08499618  0.19678025 -0.12321918\n",
      "  0.0815446   0.16532192 -0.05349546 -0.24791875 -0.13396644  0.04800252\n",
      "  0.20922132  0.1213915   0.13961764  0.25229241 -0.22742075  0.19922232\n",
      "  0.11668838 -0.01945295  0.15657829 -0.33079824 -0.1135219   0.01654386\n",
      "  0.01984717  0.26127068 -0.04387652 -0.15385006 -0.4047368 ]\n"
     ]
    }
   ],
   "source": [
    "epochs = 0\n",
    "while True:\n",
    "    predictions = []\n",
    "    for inputs, label in zip(X.to_numpy(), y):\n",
    "        prediction = predict(inputs)\n",
    "        predictions.append(prediction)\n",
    "\n",
    "        w = w+ learning_rate * (label - prediction) * inputs\n",
    "    \n",
    "    accuracy = np.sum(np.equal(y, predictions)) / len(y)\n",
    "    epochs+=1\n",
    "\n",
    "    if(accuracy > 0.9 or epochs > 500):\n",
    "        print(f\"Accuracy: {accuracy}\")\n",
    "        break\n",
    "    \n",
    "print(f\"Epcohs: {epochs}\")    \n",
    "print(f\"Final weights: {w}\")"
   ]
  },
  {
   "cell_type": "code",
   "execution_count": null,
   "metadata": {},
   "outputs": [],
   "source": []
  }
 ],
 "metadata": {
  "interpreter": {
   "hash": "31fe66134ab692918368e94a77aeb0989d92ba44fc91bb8cac9127253431b58b"
  },
  "kernelspec": {
   "display_name": "Python 3.9.7 ('base')",
   "language": "python",
   "name": "python3"
  },
  "language_info": {
   "codemirror_mode": {
    "name": "ipython",
    "version": 3
   },
   "file_extension": ".py",
   "mimetype": "text/x-python",
   "name": "python",
   "nbconvert_exporter": "python",
   "pygments_lexer": "ipython3",
   "version": "3.9.7"
  },
  "orig_nbformat": 4
 },
 "nbformat": 4,
 "nbformat_minor": 2
}
