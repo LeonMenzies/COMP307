{
 "cells": [
  {
   "cell_type": "code",
   "execution_count": 1,
   "metadata": {},
   "outputs": [],
   "source": [
    "import pandas as pd\n",
    "import numpy as np"
   ]
  },
  {
   "cell_type": "code",
   "execution_count": 2,
   "metadata": {},
   "outputs": [],
   "source": [
    "df = pd.read_csv(\"./part3/ionosphere.data\", delimiter=r\"\\s+\");\n",
    "\n",
    "learning_rate = 0.001\n",
    "\n",
    "#Split the class from the training data\n",
    "X = df.drop('class', axis=1)\n",
    "y = df[\"class\"].replace({\"g\": 1, \"b\": 0})\n",
    "\n",
    "#Add the dummy row for bias\n",
    "X.insert(0, \"f0\", 1)\n",
    "\n",
    "np.random.seed(0)\n",
    "weights = np.random.rand(len(X.columns))\n",
    "\n"
   ]
  },
  {
   "cell_type": "code",
   "execution_count": 3,
   "metadata": {},
   "outputs": [],
   "source": [
    "#Take a dot product\n",
    "def predict(inputs, w):\n",
    "    if np.dot(inputs, w) > 0:\n",
    "        return 1\n",
    "    else:\n",
    "        return 0"
   ]
  },
  {
   "cell_type": "code",
   "execution_count": 16,
   "metadata": {},
   "outputs": [
    {
     "name": "stdout",
     "output_type": "stream",
     "text": [
      "Accuracy: 0.9024390243902439\n",
      "Epcohs: 296\n",
      "Final weights: [-6.67186496e-01  5.21189366e-01  6.02763376e-01  9.11502730e-02\n",
      " -4.61088807e-02  1.38470343e-01  5.66838013e-02 -1.13776992e-02\n",
      "  1.67580131e-01  4.29703288e-02  9.03410181e-02 -6.53492902e-02\n",
      " -1.31588089e-02  3.73294183e-02  2.01148198e-04 -3.18345703e-02\n",
      " -1.00269123e-01  5.69312255e-02  5.14269709e-02 -5.44308618e-02\n",
      " -1.34475478e-02  4.30057542e-02 -8.26590777e-02  1.76199363e-02\n",
      "  4.49457359e-02  2.42370613e-02  7.06471674e-02 -1.36692103e-01\n",
      " -3.36410482e-02  5.50773800e-02  1.03755892e-01  1.15450479e-01\n",
      "  7.43865222e-03 -5.30173911e-02 -9.72284596e-02]\n"
     ]
    }
   ],
   "source": [
    "def perceptron(data, w):\n",
    "    #Run a loop until ddesired accuracy or given amount of loops (500 in this case)\n",
    "    epochs = 0\n",
    "    while True:\n",
    "        predictions = []\n",
    "        for inputs, label in zip(data.to_numpy(), y):\n",
    "            #Mkae preication and the ajust weights\n",
    "            prediction = predict(inputs, w)\n",
    "            predictions.append(prediction)\n",
    "\n",
    "            w = w + learning_rate * (label - prediction) * inputs\n",
    "        \n",
    "        #Calcualte the accuracy\n",
    "        accuracy = np.sum(np.equal(y, predictions)) / len(y)\n",
    "        epochs+=1\n",
    "\n",
    "        if(accuracy > 0.9 or epochs > 500):\n",
    "            print(f\"Accuracy: {accuracy}\")\n",
    "            break\n",
    "        \n",
    "    print(f\"Epcohs: {epochs}\")    \n",
    "    return w\n",
    "\n",
    "new_weights = perceptron(X, weights)\n",
    "print(f\"Final weights: {new_weights}\")\n",
    "\n",
    "\n"
   ]
  },
  {
   "cell_type": "code",
   "execution_count": 17,
   "metadata": {},
   "outputs": [
    {
     "name": "stdout",
     "output_type": "stream",
     "text": [
      "========================================\n",
      "Spliting the data and running train test\n",
      "========================================\n",
      "Accuracy: 0.9024390243902439\n",
      "Epcohs: 296\n",
      "Accuracry on test data: 0.9056603773584906\n"
     ]
    }
   ],
   "source": [
    "print(\"========================================\")\n",
    "print(\"Spliting the data and running train test\")\n",
    "print(\"========================================\")\n",
    "\n",
    "df = pd.read_csv(\"./part3/ionosphere.data\", delimiter=r\"\\s+\");\n",
    "\n",
    "#Add the dummy row for bias\n",
    "df.insert(0, \"f0\", 1)\n",
    "\n",
    "#Split the data\n",
    "split = (int)(len(df) * 0.70)\n",
    "\n",
    "np.random.seed(0)\n",
    "weights = np.random.rand(len(X.columns))\n",
    "\n",
    "\n",
    "X_train = df.loc[0:split]\n",
    "X_test = df.loc[split: len(df)]\n",
    "\n",
    "\n",
    "#Seperate features form class\n",
    "X = X_train.drop('class', axis=1)\n",
    "y = X_train[\"class\"].replace({\"g\": 1, \"b\": 0})\n",
    "\n",
    "new_weights = perceptron(X, weights)\n",
    "\n",
    "#prepare test data\n",
    "X_test_split = X_test.drop('class', axis=1)\n",
    "y_test_split = X_test[\"class\"].replace({\"g\": 1, \"b\": 0})\n",
    "\n",
    "\n",
    "count = 0\n",
    "\n",
    "for inputs, label in zip(X_test_split.to_numpy(), y_test_split):\n",
    "    if predict(inputs, new_weights) == label:\n",
    "        count += 1\n",
    "\n",
    "\n",
    "print(f\"Accuracry on test data: {count/len(X_test_split)}\")\n"
   ]
  },
  {
   "cell_type": "code",
   "execution_count": null,
   "metadata": {},
   "outputs": [],
   "source": []
  }
 ],
 "metadata": {
  "interpreter": {
   "hash": "31fe66134ab692918368e94a77aeb0989d92ba44fc91bb8cac9127253431b58b"
  },
  "kernelspec": {
   "display_name": "Python 3.9.7 ('base')",
   "language": "python",
   "name": "python3"
  },
  "language_info": {
   "codemirror_mode": {
    "name": "ipython",
    "version": 3
   },
   "file_extension": ".py",
   "mimetype": "text/x-python",
   "name": "python",
   "nbconvert_exporter": "python",
   "pygments_lexer": "ipython3",
   "version": "3.9.7"
  },
  "orig_nbformat": 4
 },
 "nbformat": 4,
 "nbformat_minor": 2
}
