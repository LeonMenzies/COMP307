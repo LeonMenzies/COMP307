{
 "cells": [
  {
   "cell_type": "code",
   "execution_count": 1,
   "metadata": {},
   "outputs": [],
   "source": [
    "import pandas as pd\n",
    "import sys\n"
   ]
  },
  {
   "cell_type": "code",
   "execution_count": 2,
   "metadata": {},
   "outputs": [],
   "source": [
    "#Save data to dataframes\n",
    "df_train = pd.read_csv(\"./part2/hepatitis-training\", delimiter=r\"\\s+\");\n",
    "df_test = pd.read_csv(\"./part2/hepatitis-test\", delimiter=r\"\\s+\");"
   ]
  },
  {
   "cell_type": "code",
   "execution_count": 3,
   "metadata": {},
   "outputs": [],
   "source": [
    "class Node:\n",
    "    def __init__(self, attribute, left_node = None, right_node = None, is_leaf = False):\n",
    "        self.attribute = attribute\n",
    "        self.left_node = left_node\n",
    "        self.right_node = right_node \n",
    "        self.is_leaf = is_leaf\n",
    "    "
   ]
  },
  {
   "cell_type": "code",
   "execution_count": 4,
   "metadata": {},
   "outputs": [],
   "source": [
    "def build_tree(instances, attributes):\n",
    "    if instances.empty:\n",
    "        return\n",
    "    elif calc_impurity():\n",
    "        return\n",
    "    elif attributes.empty:\n",
    "        return\n",
    "    else:\n",
    "\n",
    "        best_impurity = sys.maxsize\n",
    "        best_att = None\n",
    "        best_true = None\n",
    "        best_false = None\n",
    "\n",
    "\n",
    "        for attribute in attributes:\n",
    "\n",
    "                if attribute == \"Class\":\n",
    "                    continue\n",
    "\n",
    "                true_instance = instances.loc[instances[attribute] == True]\n",
    "                false_instance = instances.loc[instances[attribute] == False]\n",
    "\n",
    "                true_impurity = calc_impurity(true_instance, len(instances))\n",
    "                false_impurity = calc_impurity(false_instance, len(instances))\n",
    "                \n",
    "                true_weighted = len(true_instance) / len(instances) * true_impurity\n",
    "                false_weighted = len(false_instance) / len(instances) * false_impurity\n",
    "\n",
    "                if(true_weighted + false_weighted < best_impurity):\n",
    "                    best_impurity = true_weighted + false_weighted\n",
    "\n",
    "                    best_att = attribute\n",
    "                    best_true = true_instance\n",
    "                    best_false = false_instance\n",
    "\n",
    "        left = build_tree(best_true, attributes.remove(best_att))\n",
    "        right = build_tree(best_false, attributes.remove(best_att))\n",
    "\n",
    "        return Node(best_att, left, right)\n",
    "    \n",
    "\n"
   ]
  },
  {
   "cell_type": "code",
   "execution_count": 5,
   "metadata": {},
   "outputs": [],
   "source": [
    "def calc_impurity(instances, total):\n",
    "\n",
    "    try:\n",
    "        die = instances.Class.value_counts().die\n",
    "    except:\n",
    "        die = 0\n",
    "\n",
    "    try:\n",
    "        live = instances.Class.value_counts().live\n",
    "    except:\n",
    "        live = 0\n",
    "\n",
    "    live = instances.Class.value_counts().live\n",
    "\n",
    "    return die / total * live / total"
   ]
  },
  {
   "cell_type": "code",
   "execution_count": 6,
   "metadata": {},
   "outputs": [
    {
     "ename": "TypeError",
     "evalue": "calc_impurity() missing 2 required positional arguments: 'instances' and 'total'",
     "output_type": "error",
     "traceback": [
      "\u001b[0;31m---------------------------------------------------------------------------\u001b[0m",
      "\u001b[0;31mTypeError\u001b[0m                                 Traceback (most recent call last)",
      "\u001b[0;32m/var/folders/n3/c9_flf894f74bq7xj750jhxw0000gn/T/ipykernel_60614/3644583983.py\u001b[0m in \u001b[0;36m<module>\u001b[0;34m\u001b[0m\n\u001b[0;32m----> 1\u001b[0;31m \u001b[0mroot_node\u001b[0m \u001b[0;34m=\u001b[0m \u001b[0mbuild_tree\u001b[0m\u001b[0;34m(\u001b[0m\u001b[0mdf_train\u001b[0m\u001b[0;34m,\u001b[0m \u001b[0mdf_train\u001b[0m\u001b[0;34m.\u001b[0m\u001b[0mcolumns\u001b[0m\u001b[0;34m)\u001b[0m\u001b[0;34m\u001b[0m\u001b[0;34m\u001b[0m\u001b[0m\n\u001b[0m",
      "\u001b[0;32m/var/folders/n3/c9_flf894f74bq7xj750jhxw0000gn/T/ipykernel_60614/935620025.py\u001b[0m in \u001b[0;36mbuild_tree\u001b[0;34m(instances, attributes)\u001b[0m\n\u001b[1;32m      2\u001b[0m     \u001b[0;32mif\u001b[0m \u001b[0minstances\u001b[0m\u001b[0;34m.\u001b[0m\u001b[0mempty\u001b[0m\u001b[0;34m:\u001b[0m\u001b[0;34m\u001b[0m\u001b[0;34m\u001b[0m\u001b[0m\n\u001b[1;32m      3\u001b[0m         \u001b[0;32mreturn\u001b[0m\u001b[0;34m\u001b[0m\u001b[0;34m\u001b[0m\u001b[0m\n\u001b[0;32m----> 4\u001b[0;31m     \u001b[0;32melif\u001b[0m \u001b[0mcalc_impurity\u001b[0m\u001b[0;34m(\u001b[0m\u001b[0;34m)\u001b[0m\u001b[0;34m:\u001b[0m\u001b[0;34m\u001b[0m\u001b[0;34m\u001b[0m\u001b[0m\n\u001b[0m\u001b[1;32m      5\u001b[0m         \u001b[0;32mreturn\u001b[0m\u001b[0;34m\u001b[0m\u001b[0;34m\u001b[0m\u001b[0m\n\u001b[1;32m      6\u001b[0m     \u001b[0;32melif\u001b[0m \u001b[0mattributes\u001b[0m\u001b[0;34m.\u001b[0m\u001b[0mempty\u001b[0m\u001b[0;34m:\u001b[0m\u001b[0;34m\u001b[0m\u001b[0;34m\u001b[0m\u001b[0m\n",
      "\u001b[0;31mTypeError\u001b[0m: calc_impurity() missing 2 required positional arguments: 'instances' and 'total'"
     ]
    }
   ],
   "source": [
    "root_node = build_tree(df_train, df_train.columns)"
   ]
  },
  {
   "cell_type": "code",
   "execution_count": null,
   "metadata": {},
   "outputs": [],
   "source": []
  }
 ],
 "metadata": {
  "interpreter": {
   "hash": "31fe66134ab692918368e94a77aeb0989d92ba44fc91bb8cac9127253431b58b"
  },
  "kernelspec": {
   "display_name": "Python 3.9.7 ('base')",
   "language": "python",
   "name": "python3"
  },
  "language_info": {
   "codemirror_mode": {
    "name": "ipython",
    "version": 3
   },
   "file_extension": ".py",
   "mimetype": "text/x-python",
   "name": "python",
   "nbconvert_exporter": "python",
   "pygments_lexer": "ipython3",
   "version": "3.9.7"
  },
  "orig_nbformat": 4
 },
 "nbformat": 4,
 "nbformat_minor": 2
}
