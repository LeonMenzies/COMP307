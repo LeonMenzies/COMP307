{
 "cells": [
  {
   "cell_type": "code",
   "execution_count": 1,
   "metadata": {},
   "outputs": [],
   "source": [
    "import pandas as pd\n",
    "import numpy as np\n",
    "import sys"
   ]
  },
  {
   "cell_type": "code",
   "execution_count": 2,
   "metadata": {},
   "outputs": [],
   "source": [
    "#Save data to dataframes\n",
    "df_train = pd.read_csv(\"./part2/hepatitis-training\", delimiter=r\"\\s+\");\n",
    "df_test = pd.read_csv(\"./part2/hepatitis-test\", delimiter=r\"\\s+\");"
   ]
  },
  {
   "cell_type": "code",
   "execution_count": 3,
   "metadata": {},
   "outputs": [],
   "source": [
    "class Node:\n",
    "    def __init__(self, attribute, depth, probability = None, left_node = None, right_node = None, is_leaf = False, node_class = None):\n",
    "        self.attribute = attribute\n",
    "        self.left_node = left_node\n",
    "        self.right_node = right_node \n",
    "        self.is_leaf = is_leaf\n",
    "        self.depth = depth   \n",
    "        self.probability = probability\n",
    "        self.node_class = node_class\n",
    "\n",
    "\n",
    "\n",
    "        "
   ]
  },
  {
   "cell_type": "code",
   "execution_count": 4,
   "metadata": {},
   "outputs": [],
   "source": [
    "def get_prob(data):\n",
    "    return data.Class.value_counts().die + data.Class.value_counts().live / len(data)\n",
    "    \n"
   ]
  },
  {
   "cell_type": "code",
   "execution_count": 5,
   "metadata": {},
   "outputs": [],
   "source": [
    "def build_tree(instances, attributes, depth):\n",
    "\n",
    "    #Increase depth for printing\n",
    "    depth += 1\n",
    "\n",
    "    if len(instances) == 0:\n",
    "        return Node(\"Leaf\", depth, is_leaf=True, node_class=\"live\", probability=get_prob(df_train))\n",
    "    elif calc_impurity(instances, len(instances)) == 0:\n",
    "        return Node(\"Leaf\", depth, is_leaf=True, node_class=\"live\")\n",
    "    elif len(attributes) == 1:\n",
    "        return Node(\"Leaf\", depth, is_leaf=True, node_class=\"live\")\n",
    "    else:\n",
    "\n",
    "        best_impurity = sys.maxsize\n",
    "        best_att = None\n",
    "        best_true = None\n",
    "        best_false = None\n",
    "\n",
    "\n",
    "        for attribute in attributes:\n",
    "\n",
    "                if attribute == \"Class\":\n",
    "                    continue\n",
    "\n",
    "                true_instance = instances.loc[instances[attribute] == True]\n",
    "                false_instance = instances.loc[instances[attribute] == False]\n",
    "\n",
    "                true_impurity = calc_impurity(true_instance, len(instances))\n",
    "                false_impurity = calc_impurity(false_instance, len(instances))\n",
    "                \n",
    "                true_weighted = len(true_instance) / len(instances) * true_impurity\n",
    "                false_weighted = len(false_instance) / len(instances) * false_impurity\n",
    "\n",
    "                if(true_weighted + false_weighted < best_impurity):\n",
    "                    best_impurity = true_weighted + false_weighted\n",
    "\n",
    "                    best_att = attribute\n",
    "                    best_true = true_instance\n",
    "                    best_false = false_instance\n",
    "\n",
    "        attributes.remove(best_att)\n",
    "\n",
    "        left = build_tree(best_true, attributes, depth)\n",
    "        right = build_tree(best_false, attributes, depth)\n",
    "\n",
    "        return Node(best_att, depth, left, right)\n",
    "    \n",
    "\n"
   ]
  },
  {
   "cell_type": "code",
   "execution_count": 6,
   "metadata": {},
   "outputs": [],
   "source": [
    "def calc_impurity(instances, total):\n",
    "\n",
    "    try:\n",
    "        die = instances.Class.value_counts().die\n",
    "    except:\n",
    "        return 0\n",
    "\n",
    "    try:\n",
    "        live = instances.Class.value_counts().live\n",
    "    except:\n",
    "        return 0\n",
    "\n",
    "    return (die / total) * (live / total)"
   ]
  },
  {
   "cell_type": "code",
   "execution_count": 7,
   "metadata": {},
   "outputs": [],
   "source": [
    "root_node = build_tree(df_train, list(df_train.columns.values), 0)"
   ]
  },
  {
   "cell_type": "code",
   "execution_count": 8,
   "metadata": {},
   "outputs": [
    {
     "name": "stdout",
     "output_type": "stream",
     "text": [
      "Class  prop = None\n"
     ]
    }
   ],
   "source": [
    "#Print Tree\n",
    "def print_tree(node):\n",
    "\n",
    "    if(node.is_leaf):\n",
    "        print(f\"Class  prop = {node.probability}\")\n",
    "        return\n",
    "\n",
    "    left = node.left_node\n",
    "    right = node.right_node\n",
    "\n",
    "    if left != None:\n",
    "         print_tree(left)\n",
    "    if right != None:\n",
    "         print_tree(right)\n",
    "\n",
    "\n",
    "   \n",
    "print_tree(root_node)\n"
   ]
  }
 ],
 "metadata": {
  "interpreter": {
   "hash": "31fe66134ab692918368e94a77aeb0989d92ba44fc91bb8cac9127253431b58b"
  },
  "kernelspec": {
   "display_name": "Python 3.9.7 ('base')",
   "language": "python",
   "name": "python3"
  },
  "language_info": {
   "codemirror_mode": {
    "name": "ipython",
    "version": 3
   },
   "file_extension": ".py",
   "mimetype": "text/x-python",
   "name": "python",
   "nbconvert_exporter": "python",
   "pygments_lexer": "ipython3",
   "version": "3.9.7"
  },
  "orig_nbformat": 4
 },
 "nbformat": 4,
 "nbformat_minor": 2
}
