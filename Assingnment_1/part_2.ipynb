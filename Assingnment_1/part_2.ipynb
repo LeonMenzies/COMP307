{
 "cells": [
  {
   "cell_type": "code",
   "execution_count": 1,
   "metadata": {},
   "outputs": [],
   "source": [
    "import pandas as pd\n",
    "import sys"
   ]
  },
  {
   "cell_type": "code",
   "execution_count": 2,
   "metadata": {},
   "outputs": [],
   "source": [
    "#Save data to dataframes\n",
    "df_train = pd.read_csv(\"./part2/hepatitis-training\", delimiter=r\"\\s+\");\n",
    "df_test = pd.read_csv(\"./part2/hepatitis-test\", delimiter=r\"\\s+\");\n",
    "\n",
    "\n",
    "\n",
    "y = df_train.drop('Class', axis=1)\n",
    "y_class = df_train.Class"
   ]
  },
  {
   "cell_type": "code",
   "execution_count": 3,
   "metadata": {},
   "outputs": [],
   "source": [
    "class Node:\n",
    "    def __init__(self, attribute, depth, probability = None, true_node = None, false_node = None, class_node=None):\n",
    "        self.attribute = attribute\n",
    "        self.true_node = true_node\n",
    "        self.false_node = false_node \n",
    "        self.depth = depth   \n",
    "        self.probability = probability\n",
    "        self.class_node = class_node"
   ]
  },
  {
   "cell_type": "code",
   "execution_count": 4,
   "metadata": {},
   "outputs": [],
   "source": [
    "def get_prob(data):\n",
    "\n",
    "    try:\n",
    "        die = data.Class.value_counts().die\n",
    "    except:\n",
    "        die = 0\n",
    "\n",
    "    try:\n",
    "        live = data.Class.value_counts().live\n",
    "    except:\n",
    "        live = 0\n",
    "\n",
    "    best = die if die > live else live\n",
    "\n",
    "    return  \"die\" if die > live else \"live\" , best / len(data)    \n"
   ]
  },
  {
   "cell_type": "code",
   "execution_count": 5,
   "metadata": {},
   "outputs": [],
   "source": [
    "def build_tree(instances, attributes, depth):\n",
    "\n",
    "    #Increase depth for printing\n",
    "    depth += 1\n",
    "\n",
    "    if len(instances) == 0:\n",
    "\n",
    "        #Create a leaf node using the most probable class\n",
    "        class_val, prob = get_prob(df_train)\n",
    "        return Node(\"Class\", depth, probability=prob, class_node=class_val)\n",
    "        \n",
    "    elif calc_impurity(instances, len(instances)) == 0:\n",
    "\n",
    "        #Return a pure node\n",
    "        class_val, prob = get_prob(instances)\n",
    "        return Node(\"Class\", depth, probability=prob, class_node=class_val)\n",
    "\n",
    "    elif len(attributes) == 1:\n",
    "        #Return a leaf with majority class\n",
    "        class_val, prob = get_prob(instances)\n",
    "        return Node(\"Class\", depth, probability=prob, class_node=class_val)\n",
    "    else:\n",
    "\n",
    "        best_impurity = sys.maxsize\n",
    "        best_att = None\n",
    "        best_true = None\n",
    "        best_false = None\n",
    "\n",
    "\n",
    "        for attribute in attributes:\n",
    "\n",
    "                if attribute == \"Class\":\n",
    "                    continue\n",
    "\n",
    "                true_instance = instances.loc[instances[attribute] == True]\n",
    "                false_instance = instances.loc[instances[attribute] == False]\n",
    "\n",
    "                true_impurity = calc_impurity(true_instance, len(instances))\n",
    "                false_impurity = calc_impurity(false_instance, len(instances))\n",
    "                \n",
    "                true_weighted = len(true_instance) / len(instances) * true_impurity\n",
    "                false_weighted = len(false_instance) / len(instances) * false_impurity\n",
    "\n",
    "                if(true_weighted + false_weighted < best_impurity):\n",
    "                    best_impurity = true_weighted + false_weighted\n",
    "\n",
    "                    best_att = attribute\n",
    "                    best_true = true_instance\n",
    "                    best_false = false_instance\n",
    "\n",
    "        attributes.remove(best_att)\n",
    "\n",
    "        true = build_tree(best_true, attributes, depth)\n",
    "        false = build_tree(best_false, attributes, depth)\n",
    "\n",
    "        return Node(best_att, depth, true_node=true, false_node=false)\n",
    "    \n",
    "\n"
   ]
  },
  {
   "cell_type": "code",
   "execution_count": 6,
   "metadata": {},
   "outputs": [],
   "source": [
    "def calc_impurity(instances, total):\n",
    "\n",
    "    try:\n",
    "        die = instances.Class.value_counts().die\n",
    "    except:\n",
    "        return 0\n",
    "\n",
    "    try:\n",
    "        live = instances.Class.value_counts().live\n",
    "    except:\n",
    "        return 0\n",
    "\n",
    "    return (die * live) / (total**2)\n",
    "    "
   ]
  },
  {
   "cell_type": "code",
   "execution_count": 7,
   "metadata": {},
   "outputs": [],
   "source": [
    "root_node = build_tree(df_train, list(df_train.columns.values), 0)"
   ]
  },
  {
   "cell_type": "code",
   "execution_count": 8,
   "metadata": {},
   "outputs": [
    {
     "name": "stdout",
     "output_type": "stream",
     "text": [
      "   HISTOLOGY = True\n",
      "      MALAISE = True\n",
      "         FATIGUE = True\n",
      "            BILIRUBIN = True\n",
      "               VARICES = True\n",
      "                  Class live prob = 1.0\n",
      "               VARICES = False\n",
      "                  Class die prob = 1.0\n",
      "            BILIRUBIN = False\n",
      "               STEROID = True\n",
      "                  Class live prob = 1.0\n",
      "               STEROID = False\n",
      "                  Class die prob = 1.0\n",
      "         FATIGUE = False\n",
      "            ASCITES = True\n",
      "               Class live prob = 1.0\n",
      "            ASCITES = False\n",
      "               BIGLIVER = True\n",
      "                  Class die prob = 1.0\n",
      "               BIGLIVER = False\n",
      "                  Class live prob = 1.0\n",
      "      MALAISE = False\n",
      "         ANOREXIA = True\n",
      "            AGE = True\n",
      "               Class live prob = 1.0\n",
      "            AGE = False\n",
      "               FIRMLIVER = True\n",
      "                  Class die prob = 1.0\n",
      "               FIRMLIVER = False\n",
      "                  SGOT = True\n",
      "                     FEMALE = True\n",
      "                        Class live prob = 0.8125\n",
      "                     FEMALE = False\n",
      "                        ANTIVIRALS = True\n",
      "                           SPLEENPALPABLE = True\n",
      "                              SPIDERS = True\n",
      "                                 Class live prob = 0.8125\n",
      "                              SPIDERS = False\n",
      "                                 Class live prob = 0.5\n",
      "                           SPLEENPALPABLE = False\n",
      "                              Class live prob = 0.8125\n",
      "                        ANTIVIRALS = False\n",
      "                           Class live prob = 0.8125\n",
      "                  SGOT = False\n",
      "                     Class die prob = 0.6666666666666666\n",
      "         ANOREXIA = False\n",
      "            Class die prob = 0.5454545454545454\n",
      "   HISTOLOGY = False\n",
      "      Class live prob = 0.921875\n"
     ]
    }
   ],
   "source": [
    "#Print Tree\n",
    "def print_tree(node):\n",
    "\n",
    "    if(node.class_node != None):\n",
    "        print(\"   \" * node.depth + f\"Class {node.class_node} prob = {node.probability}\")\n",
    "        return\n",
    "\n",
    "    #print true\n",
    "    print(\"   \" * node.depth + f\"{node.attribute} = True\")\n",
    "    print_tree(node.true_node)\n",
    "\n",
    "    #print false\n",
    "    print(\"   \" * node.depth + f\"{node.attribute} = False\")\n",
    "    print_tree(node.false_node)\n",
    "\n",
    "\n",
    "print_tree(root_node)\n"
   ]
  },
  {
   "cell_type": "code",
   "execution_count": 13,
   "metadata": {},
   "outputs": [
    {
     "name": "stdout",
     "output_type": "stream",
     "text": [
      "[]\n"
     ]
    },
    {
     "ename": "ZeroDivisionError",
     "evalue": "division by zero",
     "output_type": "error",
     "traceback": [
      "\u001b[0;31m---------------------------------------------------------------------------\u001b[0m",
      "\u001b[0;31mZeroDivisionError\u001b[0m                         Traceback (most recent call last)",
      "\u001b[0;32m/var/folders/n3/c9_flf894f74bq7xj750jhxw0000gn/T/ipykernel_25308/566771294.py\u001b[0m in \u001b[0;36m<module>\u001b[0;34m\u001b[0m\n\u001b[1;32m     36\u001b[0m \u001b[0;34m\u001b[0m\u001b[0m\n\u001b[1;32m     37\u001b[0m \u001b[0;31m# print(correct / len(results))\u001b[0m\u001b[0;34m\u001b[0m\u001b[0;34m\u001b[0m\u001b[0m\n\u001b[0;32m---> 38\u001b[0;31m \u001b[0mprint\u001b[0m\u001b[0;34m(\u001b[0m\u001b[0mcorrect\u001b[0m \u001b[0;34m/\u001b[0m \u001b[0mlen\u001b[0m\u001b[0;34m(\u001b[0m\u001b[0mresults\u001b[0m\u001b[0;34m)\u001b[0m\u001b[0;34m)\u001b[0m\u001b[0;34m\u001b[0m\u001b[0;34m\u001b[0m\u001b[0m\n\u001b[0m\u001b[1;32m     39\u001b[0m \u001b[0;34m\u001b[0m\u001b[0m\n",
      "\u001b[0;31mZeroDivisionError\u001b[0m: division by zero"
     ]
    }
   ],
   "source": [
    "results = []\n",
    "\n",
    "def test_tree(node, test):\n",
    "    \n",
    "    if node.class_node != None:\n",
    "        results.append(node.class_node)\n",
    "        #results.append(node.probability)\n",
    "        return\n",
    "    \n",
    "    if test[1][node.attribute] == True:\n",
    "        test_tree(node.true_node, test)\n",
    "    \n",
    "    if test[1][node.attribute] == False:\n",
    "        test_tree(node.false_node, test)\n",
    "    \n",
    "    \n",
    "\n",
    "#results = []\n",
    "\n",
    "\n",
    "\n",
    "# for row in y.iterrows():\n",
    "#     print(row)\n",
    "#     test_tree(root_node, row)\n",
    "\n",
    "print(results)\n",
    "\n",
    "\n",
    "correct = 0\n",
    "\n",
    "for i in range (len(results)):\n",
    "    if results[i] == y_class[i]:\n",
    "        correct += 1\n",
    "    #correct += results[i]\n",
    "\n",
    "\n",
    "# print(correct / len(results))\n",
    "print(correct / len(results))\n",
    "    "
   ]
  },
  {
   "cell_type": "code",
   "execution_count": null,
   "metadata": {},
   "outputs": [],
   "source": []
  }
 ],
 "metadata": {
  "interpreter": {
   "hash": "31fe66134ab692918368e94a77aeb0989d92ba44fc91bb8cac9127253431b58b"
  },
  "kernelspec": {
   "display_name": "Python 3.9.7 ('base')",
   "language": "python",
   "name": "python3"
  },
  "language_info": {
   "codemirror_mode": {
    "name": "ipython",
    "version": 3
   },
   "file_extension": ".py",
   "mimetype": "text/x-python",
   "name": "python",
   "nbconvert_exporter": "python",
   "pygments_lexer": "ipython3",
   "version": "3.9.7"
  },
  "orig_nbformat": 4
 },
 "nbformat": 4,
 "nbformat_minor": 2
}
