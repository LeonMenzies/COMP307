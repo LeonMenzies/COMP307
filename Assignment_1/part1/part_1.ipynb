{
 "cells": [
  {
   "cell_type": "code",
   "execution_count": 1,
   "metadata": {},
   "outputs": [],
   "source": [
    "import pandas as pd\n",
    "import numpy as np\n",
    "from statistics import mode"
   ]
  },
  {
   "cell_type": "code",
   "execution_count": 2,
   "metadata": {},
   "outputs": [],
   "source": [
    "#Save data to dataframes\n",
    "df_train = pd.read_csv(\"wine-training\", delimiter=r\"\\s+\");\n",
    "df_test = pd.read_csv(\"wine-test\", delimiter=r\"\\s+\");"
   ]
  },
  {
   "cell_type": "code",
   "execution_count": 3,
   "metadata": {},
   "outputs": [],
   "source": [
    "#Split the class from the training data\n",
    "X = df_train.drop('Class', axis=1)\n",
    "y = df_train.Class\n",
    "\n",
    "#Normalise\n",
    "train_norm = (X-X.min())/(X.max()-X.min())"
   ]
  },
  {
   "cell_type": "code",
   "execution_count": 4,
   "metadata": {},
   "outputs": [],
   "source": [
    "#remove the class from the test data\n",
    "X_test = df_test.drop('Class', axis=1)\n",
    "y_test = df_test.Class\n",
    "\n",
    "#Normalise\n",
    "test_norm=(X_test-X_test.min())/(X_test.max()-X_test.min())"
   ]
  },
  {
   "cell_type": "code",
   "execution_count": 5,
   "metadata": {},
   "outputs": [],
   "source": [
    "def euclidean_dist(x1, x2):\n",
    "    return np.sqrt(np.sum((x1-x2)**2))"
   ]
  },
  {
   "cell_type": "code",
   "execution_count": 6,
   "metadata": {},
   "outputs": [],
   "source": [
    "def KNN(k):\n",
    "    results = []\n",
    "\n",
    "    #Iterate each test instance\n",
    "    for j in test_norm.index:\n",
    "        \n",
    "        distances = []  \n",
    "\n",
    "        #Calculate the distances\n",
    "        for i in train_norm.index:\n",
    "            distances.append(euclidean_dist(test_norm.iloc[j], train_norm.iloc[i]))\n",
    "\n",
    "        #Sort and get the most common\n",
    "        sorted_distances = np.argsort(distances)[:k]\n",
    "        labels = y[sorted_distances]\n",
    "        results.append(mode(labels)) \n",
    "\n",
    "    accuracy = np.sum(np.equal(y_test, results)) / len(y_test)\n",
    "    print(f\"K={k} Accuracy: {accuracy}\")"
   ]
  },
  {
   "cell_type": "code",
   "execution_count": 7,
   "metadata": {},
   "outputs": [
    {
     "name": "stdout",
     "output_type": "stream",
     "text": [
      "K=1 Accuracy: 0.9438202247191011\n",
      "K=3 Accuracy: 0.9213483146067416\n"
     ]
    }
   ],
   "source": [
    "KNN(1)\n",
    "KNN(3)"
   ]
  }
 ],
 "metadata": {
  "interpreter": {
   "hash": "31f2aee4e71d21fbe5cf8b01ff0e069b9275f58929596ceb00d14d90e3e16cd6"
  },
  "kernelspec": {
   "display_name": "Python 3.8.9 64-bit",
   "language": "python",
   "name": "python3"
  },
  "language_info": {
   "codemirror_mode": {
    "name": "ipython",
    "version": 3
   },
   "file_extension": ".py",
   "mimetype": "text/x-python",
   "name": "python",
   "nbconvert_exporter": "python",
   "pygments_lexer": "ipython3",
   "version": "3.9.7"
  },
  "orig_nbformat": 4
 },
 "nbformat": 4,
 "nbformat_minor": 2
}
